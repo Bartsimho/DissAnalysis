{
 "cells": [
  {
   "cell_type": "code",
   "execution_count": 14,
   "metadata": {},
   "outputs": [
    {
     "name": "stdout",
     "output_type": "stream",
     "text": [
      "Requirement already satisfied: scikit-learn in /home/codespace/.local/lib/python3.12/site-packages (1.6.0)\n",
      "Requirement already satisfied: numpy>=1.19.5 in /home/codespace/.local/lib/python3.12/site-packages (from scikit-learn) (2.2.0)\n",
      "Requirement already satisfied: scipy>=1.6.0 in /home/codespace/.local/lib/python3.12/site-packages (from scikit-learn) (1.14.1)\n",
      "Requirement already satisfied: joblib>=1.2.0 in /home/codespace/.local/lib/python3.12/site-packages (from scikit-learn) (1.4.2)\n",
      "Requirement already satisfied: threadpoolctl>=3.1.0 in /home/codespace/.local/lib/python3.12/site-packages (from scikit-learn) (3.5.0)\n",
      "\n",
      "\u001b[1m[\u001b[0m\u001b[34;49mnotice\u001b[0m\u001b[1;39;49m]\u001b[0m\u001b[39;49m A new release of pip is available: \u001b[0m\u001b[31;49m24.3.1\u001b[0m\u001b[39;49m -> \u001b[0m\u001b[32;49m25.0.1\u001b[0m\n",
      "\u001b[1m[\u001b[0m\u001b[34;49mnotice\u001b[0m\u001b[1;39;49m]\u001b[0m\u001b[39;49m To update, run: \u001b[0m\u001b[32;49mpython3 -m pip install --upgrade pip\u001b[0m\n"
     ]
    }
   ],
   "source": [
    "!pip install scikit-learn"
   ]
  },
  {
   "cell_type": "code",
   "execution_count": 15,
   "metadata": {},
   "outputs": [],
   "source": [
    "import numpy as np\n",
    "import pandas as pd\n",
    "import matplotlib.pyplot as plt\n",
    "import scipy.stats as stats\n",
    "from sklearn.model_selection import train_test_split\n",
    "from sklearn.linear_model import LinearRegression\n",
    "\n",
    "unsupervised_data = pd.read_csv(\"Data.csv\")\n",
    "unsupervised_data = unsupervised_data.dropna()\n",
    "#supervised_data = pd.read_csv(\"SupervisedData.csv\")"
   ]
  },
  {
   "cell_type": "code",
   "execution_count": 16,
   "metadata": {},
   "outputs": [],
   "source": [
    "def LinearAnalysis(X, y):\n",
    "    X_train, X_test, y_train, y_test = train_test_split(X, y, test_size=0.2, random_state=42)\n",
    "    model = LinearRegression()\n",
    "    model.fit(X_train, y_train)\n",
    "    y_pred = model.predict(X_test)\n",
    "    return X_test, y_pred"
   ]
  },
  {
   "cell_type": "code",
   "execution_count": 17,
   "metadata": {},
   "outputs": [
    {
     "data": {
      "image/png": "[encoded data removed]",
      "text/plain": [
       "<Figure size 800x500 with 1 Axes>"
      ]
     },
     "metadata": {},
     "output_type": "display_data"
    }
   ],
   "source": [
    "UDWithout = unsupervised_data[unsupervised_data['With_Or_Without'] == 0]\n",
    "UDWith = unsupervised_data[unsupervised_data['With_Or_Without'] == 1]\n",
    "\n",
    "X_Without = UDWithout[['Par']]\n",
    "y_without = UDWithout['Score']\n",
    "X_With = UDWith[['Par']]\n",
    "y_with = UDWith['Score']\n",
    "\n",
    "X_test_without, y_pred_without = LinearAnalysis(X_Without, y_without)\n",
    "\n",
    "plt.figure(figsize=(8,5))\n",
    "plt.scatter(X_test_without, y_pred_without, color=\"red\")\n",
    "plt.plot(X_test_without, y_pred_without, color=\"red\")\n",
    "\n",
    "X_test_with, y_pred_with = LinearAnalysis(X_With, y_with)\n",
    "\n",
    "plt.scatter(X_test_with, y_pred_with, color=\"green\")\n",
    "plt.plot(X_test_with, y_pred_with, color=\"green\")\n",
    "plt.show()"
   ]
  },
  {
   "cell_type": "code",
   "execution_count": 28,
   "metadata": {},
   "outputs": [],
   "source": [
    "def SignificanceTest(Without, With):\n",
    "    Without_3 = Without[Without['Par'] == 3]\n",
    "    With_3 = With[With['Par'] == 3]\n",
    "    y_Without_3 = Without_3[['Score']].to_numpy()\n",
    "    y_With_3 = With_3[['Score']].to_numpy()\n",
    "    Without_4 = Without[Without['Par'] == 4]\n",
    "    With_4 = With[With['Par'] == 4]\n",
    "    y_Without_4 = Without_4[['Score']].to_numpy()\n",
    "    y_With_4 = With_4[['Score']].to_numpy()\n",
    "    Without_5 = Without[Without['Par'] == 5]\n",
    "    With_5 = With[With['Par'] == 5]\n",
    "    y_Without_5 = Without_5[['Score']].to_numpy()\n",
    "    y_With_5 = With_5[['Score']].to_numpy()\n",
    "\n",
    "    t_stat3, p_value3 = stats.ttest_ind(y_Without_3, y_With_3)\n",
    "    print(\"Par 3 T-Test\")\n",
    "    print(t_stat3)\n",
    "    print(p_value3)\n",
    "\n",
    "    t_stat4, p_value4 = stats.ttest_ind(y_Without_4, y_With_4)\n",
    "    print(\"Par 4 T-Test\")\n",
    "    print(t_stat4)\n",
    "    print(p_value4)\n",
    "\n",
    "    t_stat5, p_value5 = stats.ttest_ind(y_Without_5, y_With_5)\n",
    "    print(\"Par 5 T-Test\")\n",
    "    print(t_stat5)\n",
    "    print(p_value5)\n",
    "\n",
    "    u_stat3, pu_value3 = stats.mannwhitneyu(y_Without_3, y_With_3, alternative='two-sided')\n",
    "    print(\"Par 3 Mann-Whitney U Test\")\n",
    "    print(u_stat3)\n",
    "    print(pu_value3)\n",
    "\n",
    "    u_stat4, pu_value4 = stats.ttest_ind(y_Without_4, y_With_4, alternative='two-sided')\n",
    "    print(\"Par 4 Mann-Whitney U Test\")\n",
    "    print(u_stat4)\n",
    "    print(pu_value4)\n",
    "\n",
    "    u_stat5, pu_value5 = stats.ttest_ind(y_Without_5, y_With_5, alternative='two-sided')\n",
    "    print(\"Par 5 Mann-Whitney U Test\")\n",
    "    print(u_stat5)\n",
    "    print(pu_value5)"
   ]
  },
  {
   "cell_type": "code",
   "execution_count": 29,
   "metadata": {},
   "outputs": [
    {
     "name": "stdout",
     "output_type": "stream",
     "text": [
      "Par 3 T-Test\n",
      "[-0.48412292]\n",
      "[0.63872595]\n",
      "Par 4 T-Test\n",
      "[0.]\n",
      "[1.]\n",
      "Par 5 T-Test\n",
      "[0.8660254]\n",
      "[0.41975309]\n",
      "Par 3 Mann-Whitney U Test\n",
      "[12.]\n",
      "[0.84475355]\n",
      "Par 4 Mann-Whitney U Test\n",
      "[0.]\n",
      "[1.]\n",
      "Par 5 Mann-Whitney U Test\n",
      "[0.8660254]\n",
      "[0.41975309]\n"
     ]
    }
   ],
   "source": [
    "SignificanceTest(UDWithout, UDWith)"
   ]
  }
 ],
 "metadata": {
  "kernelspec": {
   "display_name": "Python 3",
   "language": "python",
   "name": "python3"
  },
  "language_info": {
   "codemirror_mode": {
    "name": "ipython",
    "version": 3
   },
   "file_extension": ".py",
   "mimetype": "text/x-python",
   "name": "python",
   "nbconvert_exporter": "python",
   "pygments_lexer": "ipython3",
   "version": "3.12.1"
  }
 },
 "nbformat": 4,
 "nbformat_minor": 2
}
